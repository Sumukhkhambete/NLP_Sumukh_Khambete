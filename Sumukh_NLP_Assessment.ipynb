{
 "cells": [
  {
   "cell_type": "code",
   "execution_count": 1,
   "id": "3355928c",
   "metadata": {},
   "outputs": [],
   "source": [
    "import nltk\n",
    "import pandas as pd\n",
    "import numpy as np\n",
    "import matplotlib.pyplot as plt\n",
    "import seaborn as sns\n",
    "import json\n",
    "\n",
    "import re\n",
    "from nltk.stem import WordNetLemmatizer\n",
    "from nltk.tokenize import word_tokenize"
   ]
  },
  {
   "cell_type": "markdown",
   "id": "6da1deea",
   "metadata": {},
   "source": [
    "# Data Loading"
   ]
  },
  {
   "cell_type": "code",
   "execution_count": 2,
   "id": "92612e2a",
   "metadata": {},
   "outputs": [],
   "source": [
    "df=pd.read_json(\"amex-default-prediction/Client_data.json\")"
   ]
  },
  {
   "cell_type": "code",
   "execution_count": 3,
   "id": "1fa223b7",
   "metadata": {},
   "outputs": [
    {
     "data": {
      "text/html": [
       "<div>\n",
       "<style scoped>\n",
       "    .dataframe tbody tr th:only-of-type {\n",
       "        vertical-align: middle;\n",
       "    }\n",
       "\n",
       "    .dataframe tbody tr th {\n",
       "        vertical-align: top;\n",
       "    }\n",
       "\n",
       "    .dataframe thead th {\n",
       "        text-align: right;\n",
       "    }\n",
       "</style>\n",
       "<table border=\"1\" class=\"dataframe\">\n",
       "  <thead>\n",
       "    <tr style=\"text-align: right;\">\n",
       "      <th></th>\n",
       "      <th>_index</th>\n",
       "      <th>_type</th>\n",
       "      <th>_id</th>\n",
       "      <th>_score</th>\n",
       "      <th>_source</th>\n",
       "    </tr>\n",
       "  </thead>\n",
       "  <tbody>\n",
       "    <tr>\n",
       "      <th>0</th>\n",
       "      <td>complaint-public-v2</td>\n",
       "      <td>complaint</td>\n",
       "      <td>3211475</td>\n",
       "      <td>0</td>\n",
       "      <td>{'tags': None, 'zip_code': '90301', 'complaint...</td>\n",
       "    </tr>\n",
       "    <tr>\n",
       "      <th>1</th>\n",
       "      <td>complaint-public-v2</td>\n",
       "      <td>complaint</td>\n",
       "      <td>3229299</td>\n",
       "      <td>0</td>\n",
       "      <td>{'tags': 'Servicemember', 'zip_code': '319XX',...</td>\n",
       "    </tr>\n",
       "    <tr>\n",
       "      <th>2</th>\n",
       "      <td>complaint-public-v2</td>\n",
       "      <td>complaint</td>\n",
       "      <td>3199379</td>\n",
       "      <td>0</td>\n",
       "      <td>{'tags': None, 'zip_code': '77069', 'complaint...</td>\n",
       "    </tr>\n",
       "    <tr>\n",
       "      <th>3</th>\n",
       "      <td>complaint-public-v2</td>\n",
       "      <td>complaint</td>\n",
       "      <td>2673060</td>\n",
       "      <td>0</td>\n",
       "      <td>{'tags': None, 'zip_code': '48066', 'complaint...</td>\n",
       "    </tr>\n",
       "    <tr>\n",
       "      <th>4</th>\n",
       "      <td>complaint-public-v2</td>\n",
       "      <td>complaint</td>\n",
       "      <td>3203545</td>\n",
       "      <td>0</td>\n",
       "      <td>{'tags': None, 'zip_code': '10473', 'complaint...</td>\n",
       "    </tr>\n",
       "  </tbody>\n",
       "</table>\n",
       "</div>"
      ],
      "text/plain": [
       "                _index      _type      _id  _score  \\\n",
       "0  complaint-public-v2  complaint  3211475       0   \n",
       "1  complaint-public-v2  complaint  3229299       0   \n",
       "2  complaint-public-v2  complaint  3199379       0   \n",
       "3  complaint-public-v2  complaint  2673060       0   \n",
       "4  complaint-public-v2  complaint  3203545       0   \n",
       "\n",
       "                                             _source  \n",
       "0  {'tags': None, 'zip_code': '90301', 'complaint...  \n",
       "1  {'tags': 'Servicemember', 'zip_code': '319XX',...  \n",
       "2  {'tags': None, 'zip_code': '77069', 'complaint...  \n",
       "3  {'tags': None, 'zip_code': '48066', 'complaint...  \n",
       "4  {'tags': None, 'zip_code': '10473', 'complaint...  "
      ]
     },
     "execution_count": 3,
     "metadata": {},
     "output_type": "execute_result"
    }
   ],
   "source": [
    "df.head()"
   ]
  },
  {
   "cell_type": "code",
   "execution_count": 4,
   "id": "4733f250",
   "metadata": {},
   "outputs": [
    {
     "data": {
      "text/html": [
       "<div>\n",
       "<style scoped>\n",
       "    .dataframe tbody tr th:only-of-type {\n",
       "        vertical-align: middle;\n",
       "    }\n",
       "\n",
       "    .dataframe tbody tr th {\n",
       "        vertical-align: top;\n",
       "    }\n",
       "\n",
       "    .dataframe thead th {\n",
       "        text-align: right;\n",
       "    }\n",
       "</style>\n",
       "<table border=\"1\" class=\"dataframe\">\n",
       "  <thead>\n",
       "    <tr style=\"text-align: right;\">\n",
       "      <th></th>\n",
       "      <th>_index</th>\n",
       "      <th>_type</th>\n",
       "      <th>_id</th>\n",
       "      <th>_score</th>\n",
       "      <th>_source</th>\n",
       "    </tr>\n",
       "  </thead>\n",
       "  <tbody>\n",
       "    <tr>\n",
       "      <th>78308</th>\n",
       "      <td>complaint-public-v2</td>\n",
       "      <td>complaint</td>\n",
       "      <td>3105617</td>\n",
       "      <td>0</td>\n",
       "      <td>{'tags': None, 'zip_code': '08857', 'complaint...</td>\n",
       "    </tr>\n",
       "    <tr>\n",
       "      <th>78309</th>\n",
       "      <td>complaint-public-v2</td>\n",
       "      <td>complaint</td>\n",
       "      <td>3091984</td>\n",
       "      <td>0</td>\n",
       "      <td>{'tags': None, 'zip_code': '934XX', 'complaint...</td>\n",
       "    </tr>\n",
       "    <tr>\n",
       "      <th>78310</th>\n",
       "      <td>complaint-public-v2</td>\n",
       "      <td>complaint</td>\n",
       "      <td>3133355</td>\n",
       "      <td>0</td>\n",
       "      <td>{'tags': None, 'zip_code': '923XX', 'complaint...</td>\n",
       "    </tr>\n",
       "    <tr>\n",
       "      <th>78311</th>\n",
       "      <td>complaint-public-v2</td>\n",
       "      <td>complaint</td>\n",
       "      <td>3110963</td>\n",
       "      <td>0</td>\n",
       "      <td>{'tags': None, 'zip_code': None, 'complaint_id...</td>\n",
       "    </tr>\n",
       "    <tr>\n",
       "      <th>78312</th>\n",
       "      <td>complaint-public-v2</td>\n",
       "      <td>complaint</td>\n",
       "      <td>2001189</td>\n",
       "      <td>0</td>\n",
       "      <td>{'tags': None, 'zip_code': None, 'complaint_id...</td>\n",
       "    </tr>\n",
       "  </tbody>\n",
       "</table>\n",
       "</div>"
      ],
      "text/plain": [
       "                    _index      _type      _id  _score  \\\n",
       "78308  complaint-public-v2  complaint  3105617       0   \n",
       "78309  complaint-public-v2  complaint  3091984       0   \n",
       "78310  complaint-public-v2  complaint  3133355       0   \n",
       "78311  complaint-public-v2  complaint  3110963       0   \n",
       "78312  complaint-public-v2  complaint  2001189       0   \n",
       "\n",
       "                                                 _source  \n",
       "78308  {'tags': None, 'zip_code': '08857', 'complaint...  \n",
       "78309  {'tags': None, 'zip_code': '934XX', 'complaint...  \n",
       "78310  {'tags': None, 'zip_code': '923XX', 'complaint...  \n",
       "78311  {'tags': None, 'zip_code': None, 'complaint_id...  \n",
       "78312  {'tags': None, 'zip_code': None, 'complaint_id...  "
      ]
     },
     "execution_count": 4,
     "metadata": {},
     "output_type": "execute_result"
    }
   ],
   "source": [
    "df.tail()"
   ]
  },
  {
   "cell_type": "code",
   "execution_count": 5,
   "id": "1caa5b8d",
   "metadata": {},
   "outputs": [],
   "source": [
    "from pandas.io.json import json_normalize"
   ]
  },
  {
   "cell_type": "code",
   "execution_count": 6,
   "id": "f578e729",
   "metadata": {},
   "outputs": [
    {
     "name": "stderr",
     "output_type": "stream",
     "text": [
      "C:\\Users\\sumukh_khambete\\AppData\\Local\\Temp\\ipykernel_30976\\3910398612.py:1: FutureWarning: pandas.io.json.json_normalize is deprecated, use pandas.json_normalize instead.\n",
      "  df1 = json_normalize(df._source)\n"
     ]
    }
   ],
   "source": [
    "df1 = json_normalize(df._source)"
   ]
  },
  {
   "cell_type": "code",
   "execution_count": 7,
   "id": "131cc100",
   "metadata": {},
   "outputs": [
    {
     "data": {
      "text/html": [
       "<div>\n",
       "<style scoped>\n",
       "    .dataframe tbody tr th:only-of-type {\n",
       "        vertical-align: middle;\n",
       "    }\n",
       "\n",
       "    .dataframe tbody tr th {\n",
       "        vertical-align: top;\n",
       "    }\n",
       "\n",
       "    .dataframe thead th {\n",
       "        text-align: right;\n",
       "    }\n",
       "</style>\n",
       "<table border=\"1\" class=\"dataframe\">\n",
       "  <thead>\n",
       "    <tr style=\"text-align: right;\">\n",
       "      <th></th>\n",
       "      <th>tags</th>\n",
       "      <th>zip_code</th>\n",
       "      <th>complaint_id</th>\n",
       "      <th>issue</th>\n",
       "      <th>date_received</th>\n",
       "      <th>state</th>\n",
       "      <th>consumer_disputed</th>\n",
       "      <th>product</th>\n",
       "      <th>company_response</th>\n",
       "      <th>company</th>\n",
       "      <th>submitted_via</th>\n",
       "      <th>date_sent_to_company</th>\n",
       "      <th>company_public_response</th>\n",
       "      <th>sub_product</th>\n",
       "      <th>timely</th>\n",
       "      <th>complaint_what_happened</th>\n",
       "      <th>sub_issue</th>\n",
       "      <th>consumer_consent_provided</th>\n",
       "    </tr>\n",
       "  </thead>\n",
       "  <tbody>\n",
       "    <tr>\n",
       "      <th>0</th>\n",
       "      <td>None</td>\n",
       "      <td>90301</td>\n",
       "      <td>3211475</td>\n",
       "      <td>Attempts to collect debt not owed</td>\n",
       "      <td>2019-04-13T12:00:00-05:00</td>\n",
       "      <td>CA</td>\n",
       "      <td>N/A</td>\n",
       "      <td>Debt collection</td>\n",
       "      <td>Closed with explanation</td>\n",
       "      <td>JPMORGAN CHASE &amp; CO.</td>\n",
       "      <td>Web</td>\n",
       "      <td>2019-04-13T12:00:00-05:00</td>\n",
       "      <td>None</td>\n",
       "      <td>Credit card debt</td>\n",
       "      <td>Yes</td>\n",
       "      <td></td>\n",
       "      <td>Debt is not yours</td>\n",
       "      <td>Consent not provided</td>\n",
       "    </tr>\n",
       "    <tr>\n",
       "      <th>1</th>\n",
       "      <td>Servicemember</td>\n",
       "      <td>319XX</td>\n",
       "      <td>3229299</td>\n",
       "      <td>Written notification about debt</td>\n",
       "      <td>2019-05-01T12:00:00-05:00</td>\n",
       "      <td>GA</td>\n",
       "      <td>N/A</td>\n",
       "      <td>Debt collection</td>\n",
       "      <td>Closed with explanation</td>\n",
       "      <td>JPMORGAN CHASE &amp; CO.</td>\n",
       "      <td>Web</td>\n",
       "      <td>2019-05-01T12:00:00-05:00</td>\n",
       "      <td>None</td>\n",
       "      <td>Credit card debt</td>\n",
       "      <td>Yes</td>\n",
       "      <td>Good morning my name is XXXX XXXX and I apprec...</td>\n",
       "      <td>Didn't receive enough information to verify debt</td>\n",
       "      <td>Consent provided</td>\n",
       "    </tr>\n",
       "    <tr>\n",
       "      <th>2</th>\n",
       "      <td>None</td>\n",
       "      <td>77069</td>\n",
       "      <td>3199379</td>\n",
       "      <td>Other features, terms, or problems</td>\n",
       "      <td>2019-04-02T12:00:00-05:00</td>\n",
       "      <td>TX</td>\n",
       "      <td>N/A</td>\n",
       "      <td>Credit card or prepaid card</td>\n",
       "      <td>Closed with explanation</td>\n",
       "      <td>JPMORGAN CHASE &amp; CO.</td>\n",
       "      <td>Web</td>\n",
       "      <td>2019-04-02T12:00:00-05:00</td>\n",
       "      <td>None</td>\n",
       "      <td>General-purpose credit card or charge card</td>\n",
       "      <td>Yes</td>\n",
       "      <td>I upgraded my XXXX XXXX card in XX/XX/2018 and...</td>\n",
       "      <td>Problem with rewards from credit card</td>\n",
       "      <td>Consent provided</td>\n",
       "    </tr>\n",
       "    <tr>\n",
       "      <th>3</th>\n",
       "      <td>None</td>\n",
       "      <td>48066</td>\n",
       "      <td>2673060</td>\n",
       "      <td>Trouble during payment process</td>\n",
       "      <td>2017-09-13T12:00:00-05:00</td>\n",
       "      <td>MI</td>\n",
       "      <td>N/A</td>\n",
       "      <td>Mortgage</td>\n",
       "      <td>Closed with explanation</td>\n",
       "      <td>JPMORGAN CHASE &amp; CO.</td>\n",
       "      <td>Web</td>\n",
       "      <td>2017-09-14T12:00:00-05:00</td>\n",
       "      <td>None</td>\n",
       "      <td>Conventional home mortgage</td>\n",
       "      <td>Yes</td>\n",
       "      <td></td>\n",
       "      <td>None</td>\n",
       "      <td>Consent not provided</td>\n",
       "    </tr>\n",
       "    <tr>\n",
       "      <th>4</th>\n",
       "      <td>None</td>\n",
       "      <td>10473</td>\n",
       "      <td>3203545</td>\n",
       "      <td>Fees or interest</td>\n",
       "      <td>2019-04-05T12:00:00-05:00</td>\n",
       "      <td>NY</td>\n",
       "      <td>N/A</td>\n",
       "      <td>Credit card or prepaid card</td>\n",
       "      <td>Closed with explanation</td>\n",
       "      <td>JPMORGAN CHASE &amp; CO.</td>\n",
       "      <td>Referral</td>\n",
       "      <td>2019-04-05T12:00:00-05:00</td>\n",
       "      <td>None</td>\n",
       "      <td>General-purpose credit card or charge card</td>\n",
       "      <td>Yes</td>\n",
       "      <td></td>\n",
       "      <td>Charged too much interest</td>\n",
       "      <td>N/A</td>\n",
       "    </tr>\n",
       "  </tbody>\n",
       "</table>\n",
       "</div>"
      ],
      "text/plain": [
       "            tags zip_code complaint_id                               issue  \\\n",
       "0           None    90301      3211475   Attempts to collect debt not owed   \n",
       "1  Servicemember    319XX      3229299     Written notification about debt   \n",
       "2           None    77069      3199379  Other features, terms, or problems   \n",
       "3           None    48066      2673060      Trouble during payment process   \n",
       "4           None    10473      3203545                    Fees or interest   \n",
       "\n",
       "               date_received state consumer_disputed  \\\n",
       "0  2019-04-13T12:00:00-05:00    CA               N/A   \n",
       "1  2019-05-01T12:00:00-05:00    GA               N/A   \n",
       "2  2019-04-02T12:00:00-05:00    TX               N/A   \n",
       "3  2017-09-13T12:00:00-05:00    MI               N/A   \n",
       "4  2019-04-05T12:00:00-05:00    NY               N/A   \n",
       "\n",
       "                       product         company_response               company  \\\n",
       "0              Debt collection  Closed with explanation  JPMORGAN CHASE & CO.   \n",
       "1              Debt collection  Closed with explanation  JPMORGAN CHASE & CO.   \n",
       "2  Credit card or prepaid card  Closed with explanation  JPMORGAN CHASE & CO.   \n",
       "3                     Mortgage  Closed with explanation  JPMORGAN CHASE & CO.   \n",
       "4  Credit card or prepaid card  Closed with explanation  JPMORGAN CHASE & CO.   \n",
       "\n",
       "  submitted_via       date_sent_to_company company_public_response  \\\n",
       "0           Web  2019-04-13T12:00:00-05:00                    None   \n",
       "1           Web  2019-05-01T12:00:00-05:00                    None   \n",
       "2           Web  2019-04-02T12:00:00-05:00                    None   \n",
       "3           Web  2017-09-14T12:00:00-05:00                    None   \n",
       "4      Referral  2019-04-05T12:00:00-05:00                    None   \n",
       "\n",
       "                                  sub_product timely  \\\n",
       "0                            Credit card debt    Yes   \n",
       "1                            Credit card debt    Yes   \n",
       "2  General-purpose credit card or charge card    Yes   \n",
       "3                  Conventional home mortgage    Yes   \n",
       "4  General-purpose credit card or charge card    Yes   \n",
       "\n",
       "                             complaint_what_happened  \\\n",
       "0                                                      \n",
       "1  Good morning my name is XXXX XXXX and I apprec...   \n",
       "2  I upgraded my XXXX XXXX card in XX/XX/2018 and...   \n",
       "3                                                      \n",
       "4                                                      \n",
       "\n",
       "                                          sub_issue consumer_consent_provided  \n",
       "0                                 Debt is not yours      Consent not provided  \n",
       "1  Didn't receive enough information to verify debt          Consent provided  \n",
       "2             Problem with rewards from credit card          Consent provided  \n",
       "3                                              None      Consent not provided  \n",
       "4                         Charged too much interest                       N/A  "
      ]
     },
     "execution_count": 7,
     "metadata": {},
     "output_type": "execute_result"
    }
   ],
   "source": [
    "df1.head()"
   ]
  },
  {
   "cell_type": "code",
   "execution_count": 8,
   "id": "c5e238f5",
   "metadata": {},
   "outputs": [
    {
     "data": {
      "text/plain": [
       "tags                         10900\n",
       "zip_code                     71556\n",
       "complaint_id                 78313\n",
       "issue                        78313\n",
       "date_received                78313\n",
       "state                        76322\n",
       "consumer_disputed            78313\n",
       "product                      78313\n",
       "company_response             78313\n",
       "company                      78313\n",
       "submitted_via                78313\n",
       "date_sent_to_company         78313\n",
       "company_public_response          4\n",
       "sub_product                  67742\n",
       "timely                       78313\n",
       "complaint_what_happened      78313\n",
       "sub_issue                    32016\n",
       "consumer_consent_provided    77305\n",
       "dtype: int64"
      ]
     },
     "execution_count": 8,
     "metadata": {},
     "output_type": "execute_result"
    }
   ],
   "source": [
    "df1.count()"
   ]
  },
  {
   "cell_type": "code",
   "execution_count": 9,
   "id": "10a7b2ac",
   "metadata": {},
   "outputs": [],
   "source": [
    "from pandas import DataFrame"
   ]
  },
  {
   "cell_type": "code",
   "execution_count": 10,
   "id": "95b296e0",
   "metadata": {},
   "outputs": [
    {
     "data": {
      "text/plain": [
       "Index(['tags', 'zip_code', 'complaint_id', 'issue', 'date_received', 'state',\n",
       "       'consumer_disputed', 'product', 'company_response', 'company',\n",
       "       'submitted_via', 'date_sent_to_company', 'company_public_response',\n",
       "       'sub_product', 'timely', 'complaint_what_happened', 'sub_issue',\n",
       "       'consumer_consent_provided'],\n",
       "      dtype='object')"
      ]
     },
     "execution_count": 10,
     "metadata": {},
     "output_type": "execute_result"
    }
   ],
   "source": [
    "df1.columns"
   ]
  },
  {
   "cell_type": "code",
   "execution_count": 11,
   "id": "b50ad410",
   "metadata": {},
   "outputs": [
    {
     "data": {
      "text/plain": [
       "tags                         0.860815\n",
       "zip_code                     0.086282\n",
       "complaint_id                 0.000000\n",
       "issue                        0.000000\n",
       "date_received                0.000000\n",
       "state                        0.025424\n",
       "consumer_disputed            0.000000\n",
       "product                      0.000000\n",
       "company_response             0.000000\n",
       "company                      0.000000\n",
       "submitted_via                0.000000\n",
       "date_sent_to_company         0.000000\n",
       "company_public_response      0.999949\n",
       "sub_product                  0.134984\n",
       "timely                       0.000000\n",
       "complaint_what_happened      0.000000\n",
       "sub_issue                    0.591179\n",
       "consumer_consent_provided    0.012871\n",
       "dtype: float64"
      ]
     },
     "execution_count": 11,
     "metadata": {},
     "output_type": "execute_result"
    }
   ],
   "source": [
    "#checking for null values\n",
    "df1.isnull().sum()/len(df1)"
   ]
  },
  {
   "cell_type": "markdown",
   "id": "686f4472",
   "metadata": {},
   "source": [
    "## EDA"
   ]
  },
  {
   "cell_type": "code",
   "execution_count": 12,
   "id": "32a7a06c",
   "metadata": {},
   "outputs": [
    {
     "data": {
      "text/html": [
       "<div>\n",
       "<style scoped>\n",
       "    .dataframe tbody tr th:only-of-type {\n",
       "        vertical-align: middle;\n",
       "    }\n",
       "\n",
       "    .dataframe tbody tr th {\n",
       "        vertical-align: top;\n",
       "    }\n",
       "\n",
       "    .dataframe thead th {\n",
       "        text-align: right;\n",
       "    }\n",
       "</style>\n",
       "<table border=\"1\" class=\"dataframe\">\n",
       "  <thead>\n",
       "    <tr style=\"text-align: right;\">\n",
       "      <th></th>\n",
       "      <th>tags</th>\n",
       "      <th>zip_code</th>\n",
       "      <th>complaint_id</th>\n",
       "      <th>issue</th>\n",
       "      <th>date_received</th>\n",
       "      <th>state</th>\n",
       "      <th>consumer_disputed</th>\n",
       "      <th>product</th>\n",
       "      <th>company_response</th>\n",
       "      <th>company</th>\n",
       "      <th>submitted_via</th>\n",
       "      <th>date_sent_to_company</th>\n",
       "      <th>company_public_response</th>\n",
       "      <th>sub_product</th>\n",
       "      <th>timely</th>\n",
       "      <th>complaint_what_happened</th>\n",
       "      <th>sub_issue</th>\n",
       "      <th>consumer_consent_provided</th>\n",
       "    </tr>\n",
       "  </thead>\n",
       "  <tbody>\n",
       "    <tr>\n",
       "      <th>count</th>\n",
       "      <td>10900</td>\n",
       "      <td>71556</td>\n",
       "      <td>78313</td>\n",
       "      <td>78313</td>\n",
       "      <td>78313</td>\n",
       "      <td>76322</td>\n",
       "      <td>78313</td>\n",
       "      <td>78313</td>\n",
       "      <td>78313</td>\n",
       "      <td>78313</td>\n",
       "      <td>78313</td>\n",
       "      <td>78313</td>\n",
       "      <td>4</td>\n",
       "      <td>67742</td>\n",
       "      <td>78313</td>\n",
       "      <td>78313</td>\n",
       "      <td>32016</td>\n",
       "      <td>77305</td>\n",
       "    </tr>\n",
       "    <tr>\n",
       "      <th>unique</th>\n",
       "      <td>3</td>\n",
       "      <td>9442</td>\n",
       "      <td>78313</td>\n",
       "      <td>154</td>\n",
       "      <td>3444</td>\n",
       "      <td>62</td>\n",
       "      <td>3</td>\n",
       "      <td>17</td>\n",
       "      <td>8</td>\n",
       "      <td>1</td>\n",
       "      <td>6</td>\n",
       "      <td>3309</td>\n",
       "      <td>3</td>\n",
       "      <td>72</td>\n",
       "      <td>2</td>\n",
       "      <td>20931</td>\n",
       "      <td>205</td>\n",
       "      <td>5</td>\n",
       "    </tr>\n",
       "    <tr>\n",
       "      <th>top</th>\n",
       "      <td>Older American</td>\n",
       "      <td>606XX</td>\n",
       "      <td>3211475</td>\n",
       "      <td>Loan modification,collection,foreclosure</td>\n",
       "      <td>2015-08-27T12:00:00-05:00</td>\n",
       "      <td>CA</td>\n",
       "      <td>N/A</td>\n",
       "      <td>Mortgage</td>\n",
       "      <td>Closed with explanation</td>\n",
       "      <td>JPMORGAN CHASE &amp; CO.</td>\n",
       "      <td>Web</td>\n",
       "      <td>2012-06-21T12:00:00-05:00</td>\n",
       "      <td>Company has responded to the consumer and the ...</td>\n",
       "      <td>Checking account</td>\n",
       "      <td>Yes</td>\n",
       "      <td></td>\n",
       "      <td>Credit card company isn't resolving a dispute ...</td>\n",
       "      <td>N/A</td>\n",
       "    </tr>\n",
       "    <tr>\n",
       "      <th>freq</th>\n",
       "      <td>6103</td>\n",
       "      <td>472</td>\n",
       "      <td>1</td>\n",
       "      <td>9743</td>\n",
       "      <td>82</td>\n",
       "      <td>14009</td>\n",
       "      <td>35683</td>\n",
       "      <td>22725</td>\n",
       "      <td>60230</td>\n",
       "      <td>78313</td>\n",
       "      <td>47972</td>\n",
       "      <td>105</td>\n",
       "      <td>2</td>\n",
       "      <td>17182</td>\n",
       "      <td>78217</td>\n",
       "      <td>57241</td>\n",
       "      <td>2904</td>\n",
       "      <td>42847</td>\n",
       "    </tr>\n",
       "  </tbody>\n",
       "</table>\n",
       "</div>"
      ],
      "text/plain": [
       "                  tags zip_code complaint_id  \\\n",
       "count            10900    71556        78313   \n",
       "unique               3     9442        78313   \n",
       "top     Older American    606XX      3211475   \n",
       "freq              6103      472            1   \n",
       "\n",
       "                                           issue              date_received  \\\n",
       "count                                      78313                      78313   \n",
       "unique                                       154                       3444   \n",
       "top     Loan modification,collection,foreclosure  2015-08-27T12:00:00-05:00   \n",
       "freq                                        9743                         82   \n",
       "\n",
       "        state consumer_disputed   product         company_response  \\\n",
       "count   76322             78313     78313                    78313   \n",
       "unique     62                 3        17                        8   \n",
       "top        CA               N/A  Mortgage  Closed with explanation   \n",
       "freq    14009             35683     22725                    60230   \n",
       "\n",
       "                     company submitted_via       date_sent_to_company  \\\n",
       "count                  78313         78313                      78313   \n",
       "unique                     1             6                       3309   \n",
       "top     JPMORGAN CHASE & CO.           Web  2012-06-21T12:00:00-05:00   \n",
       "freq                   78313         47972                        105   \n",
       "\n",
       "                                  company_public_response       sub_product  \\\n",
       "count                                                   4             67742   \n",
       "unique                                                  3                72   \n",
       "top     Company has responded to the consumer and the ...  Checking account   \n",
       "freq                                                    2             17182   \n",
       "\n",
       "       timely complaint_what_happened  \\\n",
       "count   78313                   78313   \n",
       "unique      2                   20931   \n",
       "top       Yes                           \n",
       "freq    78217                   57241   \n",
       "\n",
       "                                                sub_issue  \\\n",
       "count                                               32016   \n",
       "unique                                                205   \n",
       "top     Credit card company isn't resolving a dispute ...   \n",
       "freq                                                 2904   \n",
       "\n",
       "       consumer_consent_provided  \n",
       "count                      77305  \n",
       "unique                         5  \n",
       "top                          N/A  \n",
       "freq                       42847  "
      ]
     },
     "execution_count": 12,
     "metadata": {},
     "output_type": "execute_result"
    }
   ],
   "source": [
    "df1.describe()"
   ]
  },
  {
   "cell_type": "code",
   "execution_count": 13,
   "id": "3349f1b3",
   "metadata": {},
   "outputs": [
    {
     "name": "stdout",
     "output_type": "stream",
     "text": [
      "Mortgage                                                                        22725\n",
      "Checking or savings account                                                     12147\n",
      "Credit card or prepaid card                                                     10797\n",
      "Credit card                                                                     10373\n",
      "Bank account or service                                                          9816\n",
      "Credit reporting, credit repair services, or other personal consumer reports     4310\n",
      "Debt collection                                                                  3201\n",
      "Money transfer, virtual currency, or money service                               1500\n",
      "Consumer Loan                                                                    1029\n",
      "Vehicle loan or lease                                                             892\n",
      "Student loan                                                                      866\n",
      "Money transfers                                                                   228\n",
      "Credit reporting                                                                  192\n",
      "Payday loan, title loan, or personal loan                                         139\n",
      "Other financial service                                                            60\n",
      "Prepaid card                                                                       32\n",
      "Payday loan                                                                         6\n",
      "Name: product, dtype: int64\n",
      "Mortgage                                                                        22725\n",
      "Checking or savings account                                                     12147\n",
      "Credit card or prepaid card                                                     10797\n",
      "Credit card                                                                     10373\n",
      "Bank account or service                                                          9816\n",
      "Credit reporting, credit repair services, or other personal consumer reports     4310\n",
      "Debt collection                                                                  3201\n",
      "Money transfer, virtual currency, or money service                               1500\n",
      "Consumer Loan                                                                    1029\n",
      "Vehicle loan or lease                                                             892\n",
      "Student loan                                                                      866\n",
      "Money transfers                                                                   228\n",
      "Credit reporting                                                                  192\n",
      "Payday loan, title loan, or personal loan                                         139\n",
      "Other financial service                                                            60\n",
      "Prepaid card                                                                       32\n",
      "Payday loan                                                                         6\n",
      "Name: product, dtype: int64\n"
     ]
    },
    {
     "name": "stderr",
     "output_type": "stream",
     "text": [
      "C:\\Users\\sumukh_khambete\\AppData\\Local\\Temp\\ipykernel_30976\\871030934.py:6: UserWarning: Tight layout not applied. The bottom and top margins cannot be made large enough to accommodate all axes decorations.\n",
      "  plt.tight_layout()\n"
     ]
    },
    {
     "data": {
      "image/png": "[encoded data removed]",
      "text/plain": [
       "<Figure size 640x480 with 1 Axes>"
      ]
     },
     "metadata": {},
     "output_type": "display_data"
    }
   ],
   "source": [
    "print(df1['product'].value_counts())\n",
    "print(df1['product'].value_counts())\n",
    "ax = sns.countplot(x=\"product\", data=df1)\n",
    "\n",
    "ax.set_xticklabels(ax.get_xticklabels(), rotation=90, ha=\"right\")\n",
    "plt.tight_layout()\n",
    "plt.show()"
   ]
  },
  {
   "cell_type": "code",
   "execution_count": 14,
   "id": "7eeac4de",
   "metadata": {},
   "outputs": [
    {
     "name": "stdout",
     "output_type": "stream",
     "text": [
      "Checking account                              17182\n",
      "General-purpose credit card or charge card    10504\n",
      "Other mortgage                                 8447\n",
      "Conventional fixed mortgage                    4892\n",
      "Credit reporting                               4172\n",
      "                                              ...  \n",
      "Gift or merchant card                             4\n",
      "Government benefit payment card                   4\n",
      "ID prepaid card                                   2\n",
      "Medical debt                                      2\n",
      "Electronic Benefit Transfer / EBT card            1\n",
      "Name: sub_product, Length: 72, dtype: int64\n"
     ]
    },
    {
     "data": {
      "image/png": "[encoded data removed]",
      "text/plain": [
       "<Figure size 640x480 with 1 Axes>"
      ]
     },
     "metadata": {},
     "output_type": "display_data"
    }
   ],
   "source": [
    "print(df1['sub_product'].value_counts())\n",
    "ax = sns.countplot(x=\"sub_product\", data=df1)\n",
    "\n",
    "ax.set_xticklabels(ax.get_xticklabels(), rotation=90, ha=\"right\")\n",
    "plt.tight_layout()\n",
    "plt.show()"
   ]
  },
  {
   "cell_type": "code",
   "execution_count": 15,
   "id": "c8d36945",
   "metadata": {},
   "outputs": [
    {
     "data": {
      "text/html": [
       "<div>\n",
       "<style scoped>\n",
       "    .dataframe tbody tr th:only-of-type {\n",
       "        vertical-align: middle;\n",
       "    }\n",
       "\n",
       "    .dataframe tbody tr th {\n",
       "        vertical-align: top;\n",
       "    }\n",
       "\n",
       "    .dataframe thead th {\n",
       "        text-align: right;\n",
       "    }\n",
       "</style>\n",
       "<table border=\"1\" class=\"dataframe\">\n",
       "  <thead>\n",
       "    <tr style=\"text-align: right;\">\n",
       "      <th></th>\n",
       "      <th>complaint_what_happened</th>\n",
       "      <th>product</th>\n",
       "      <th>sub_product</th>\n",
       "    </tr>\n",
       "  </thead>\n",
       "  <tbody>\n",
       "    <tr>\n",
       "      <th>0</th>\n",
       "      <td></td>\n",
       "      <td>Debt collection</td>\n",
       "      <td>Credit card debt</td>\n",
       "    </tr>\n",
       "    <tr>\n",
       "      <th>1</th>\n",
       "      <td>Good morning my name is XXXX XXXX and I apprec...</td>\n",
       "      <td>Debt collection</td>\n",
       "      <td>Credit card debt</td>\n",
       "    </tr>\n",
       "    <tr>\n",
       "      <th>2</th>\n",
       "      <td>I upgraded my XXXX XXXX card in XX/XX/2018 and...</td>\n",
       "      <td>Credit card or prepaid card</td>\n",
       "      <td>General-purpose credit card or charge card</td>\n",
       "    </tr>\n",
       "    <tr>\n",
       "      <th>3</th>\n",
       "      <td></td>\n",
       "      <td>Mortgage</td>\n",
       "      <td>Conventional home mortgage</td>\n",
       "    </tr>\n",
       "    <tr>\n",
       "      <th>4</th>\n",
       "      <td></td>\n",
       "      <td>Credit card or prepaid card</td>\n",
       "      <td>General-purpose credit card or charge card</td>\n",
       "    </tr>\n",
       "  </tbody>\n",
       "</table>\n",
       "</div>"
      ],
      "text/plain": [
       "                             complaint_what_happened  \\\n",
       "0                                                      \n",
       "1  Good morning my name is XXXX XXXX and I apprec...   \n",
       "2  I upgraded my XXXX XXXX card in XX/XX/2018 and...   \n",
       "3                                                      \n",
       "4                                                      \n",
       "\n",
       "                       product                                 sub_product  \n",
       "0              Debt collection                            Credit card debt  \n",
       "1              Debt collection                            Credit card debt  \n",
       "2  Credit card or prepaid card  General-purpose credit card or charge card  \n",
       "3                     Mortgage                  Conventional home mortgage  \n",
       "4  Credit card or prepaid card  General-purpose credit card or charge card  "
      ]
     },
     "execution_count": 15,
     "metadata": {},
     "output_type": "execute_result"
    }
   ],
   "source": [
    "df1 = df1[['complaint_what_happened','product','sub_product',]]\n",
    "df1.head()"
   ]
  },
  {
   "cell_type": "code",
   "execution_count": 16,
   "id": "784c546e",
   "metadata": {},
   "outputs": [
    {
     "data": {
      "text/plain": [
       "'!\"#$%&\\'()*+,-./:;<=>?@[\\\\]^_`{|}~'"
      ]
     },
     "execution_count": 16,
     "metadata": {},
     "output_type": "execute_result"
    }
   ],
   "source": [
    "#library that contains punctuation\n",
    "import string\n",
    "string.punctuation"
   ]
  },
  {
   "cell_type": "markdown",
   "id": "3c590a67",
   "metadata": {},
   "source": [
    "# Text Pre-Processing"
   ]
  },
  {
   "cell_type": "code",
   "execution_count": 17,
   "id": "56ca006a",
   "metadata": {},
   "outputs": [
    {
     "data": {
      "text/html": [
       "<div>\n",
       "<style scoped>\n",
       "    .dataframe tbody tr th:only-of-type {\n",
       "        vertical-align: middle;\n",
       "    }\n",
       "\n",
       "    .dataframe tbody tr th {\n",
       "        vertical-align: top;\n",
       "    }\n",
       "\n",
       "    .dataframe thead th {\n",
       "        text-align: right;\n",
       "    }\n",
       "</style>\n",
       "<table border=\"1\" class=\"dataframe\">\n",
       "  <thead>\n",
       "    <tr style=\"text-align: right;\">\n",
       "      <th></th>\n",
       "      <th>complaint_what_happened</th>\n",
       "      <th>product</th>\n",
       "      <th>sub_product</th>\n",
       "    </tr>\n",
       "  </thead>\n",
       "  <tbody>\n",
       "    <tr>\n",
       "      <th>0</th>\n",
       "      <td></td>\n",
       "      <td>Debt collection</td>\n",
       "      <td>Credit card debt</td>\n",
       "    </tr>\n",
       "    <tr>\n",
       "      <th>1</th>\n",
       "      <td>Good morning my name is XXXX XXXX and I apprec...</td>\n",
       "      <td>Debt collection</td>\n",
       "      <td>Credit card debt</td>\n",
       "    </tr>\n",
       "    <tr>\n",
       "      <th>2</th>\n",
       "      <td>I upgraded my XXXX XXXX card in XXXX2018 and w...</td>\n",
       "      <td>Credit card or prepaid card</td>\n",
       "      <td>General-purpose credit card or charge card</td>\n",
       "    </tr>\n",
       "    <tr>\n",
       "      <th>3</th>\n",
       "      <td></td>\n",
       "      <td>Mortgage</td>\n",
       "      <td>Conventional home mortgage</td>\n",
       "    </tr>\n",
       "    <tr>\n",
       "      <th>4</th>\n",
       "      <td></td>\n",
       "      <td>Credit card or prepaid card</td>\n",
       "      <td>General-purpose credit card or charge card</td>\n",
       "    </tr>\n",
       "  </tbody>\n",
       "</table>\n",
       "</div>"
      ],
      "text/plain": [
       "                             complaint_what_happened  \\\n",
       "0                                                      \n",
       "1  Good morning my name is XXXX XXXX and I apprec...   \n",
       "2  I upgraded my XXXX XXXX card in XXXX2018 and w...   \n",
       "3                                                      \n",
       "4                                                      \n",
       "\n",
       "                       product                                 sub_product  \n",
       "0              Debt collection                            Credit card debt  \n",
       "1              Debt collection                            Credit card debt  \n",
       "2  Credit card or prepaid card  General-purpose credit card or charge card  \n",
       "3                     Mortgage                  Conventional home mortgage  \n",
       "4  Credit card or prepaid card  General-purpose credit card or charge card  "
      ]
     },
     "execution_count": 17,
     "metadata": {},
     "output_type": "execute_result"
    }
   ],
   "source": [
    "#defining the function to remove punctuation\n",
    "def remove_punctuation(text):\n",
    "    punctuationfree=\"\".join([i for i in text if i not in string.punctuation])\n",
    "    return punctuationfree\n",
    "#storing the puntuation free text\n",
    "df1['complaint_what_happened']= df1['complaint_what_happened'].apply(lambda x:remove_punctuation(x))\n",
    "df1.head()"
   ]
  },
  {
   "cell_type": "code",
   "execution_count": 18,
   "id": "27b360f4",
   "metadata": {},
   "outputs": [
    {
     "data": {
      "text/plain": [
       "'I upgraded my XXXX XXXX card in XXXX2018 and was told by the agent who did the upgrade my anniversary date would not change It turned the agent was giving me the wrong information in order to upgrade the account XXXX   changed my anniversary date from XXXXXXXX to XXXXXXXX without my consent XXXX has the recording of the agent who was misled me'"
      ]
     },
     "execution_count": 18,
     "metadata": {},
     "output_type": "execute_result"
    }
   ],
   "source": [
    "df1['complaint_what_happened'][2]"
   ]
  },
  {
   "cell_type": "code",
   "execution_count": 19,
   "id": "8c29eb61",
   "metadata": {},
   "outputs": [],
   "source": [
    "from gensim.parsing.preprocessing import remove_stopwords"
   ]
  },
  {
   "cell_type": "code",
   "execution_count": 20,
   "id": "7f3ac14c",
   "metadata": {},
   "outputs": [],
   "source": [
    "def decontractions(phrase):\n",
    "\n",
    "    \"\"\"decontracted takes text and convert contractions into natural form.\"\"\"\n",
    "\n",
    "    # specific\n",
    "    phrase = re.sub(r\"won\\'t\", \"will not\", phrase)\n",
    "    phrase = re.sub(r\"can\\'t\", \"can not\", phrase)\n",
    "    phrase = re.sub(r\"isn\\’t\", \"is not\", phrase)\n",
    "    phrase = re.sub(r\"didn\\’t\", \"did not\", phrase)\n",
    "\n",
    "    # general\n",
    "    phrase = re.sub(r\"n\\'t\", \" not\", phrase)\n",
    "    phrase = re.sub(r\"\\'re\", \" are\", phrase)\n",
    "    phrase = re.sub(r\"\\'s\", \" is\", phrase)\n",
    "    phrase = re.sub(r\"\\'d\", \" would\", phrase)\n",
    "    phrase = re.sub(r\"\\'ll\", \" will\", phrase)\n",
    "    phrase = re.sub(r\"\\'t\", \" not\", phrase)\n",
    "    phrase = re.sub(r\"\\'ve\", \" have\", phrase)\n",
    "    phrase = re.sub(r\"\\'m\", \" am\", phrase)\n",
    "\n",
    "\n",
    "    return phrase\n",
    "\n",
    "\n",
    "def preprocess(text):\n",
    "\n",
    "    # convert all the text into lower letters\n",
    "    # remove all the spacial characters: except space ' '\n",
    "\n",
    "    text = text.lower()\n",
    "    text = decontractions(text)\n",
    "    text = re.sub('[^A-Za-z0-9 ]+', '', text)\n",
    "    text = lemmatize_sentences(text)\n",
    "\n",
    "    return text\n",
    "\n",
    "\n",
    "def preprocess_ita(text):\n",
    "\n",
    "    # convert all the text into lower letters\n",
    "    # remove the words betweent brakets ()\n",
    "    # remove these characters: {'$', ')', '?', '\"', '’', '.',  '°', '!', ';', '/', \"'\", '€', '%', ':', ',', '('}\n",
    "    # replace these spl characters with space: '\\u200b', '\\xa0', '-', '/'\n",
    "    # we have found these characters after observing the data points, feel free to explore more and see if you can do find more\n",
    "    # you are free to do more proprocessing\n",
    "    # note that the model will learn better with better preprocessed data \n",
    "\n",
    "    text = text.lower()\n",
    "    text = decontractions(text)\n",
    "    text = re.sub('[$)\\?\"’.°!;\\'€%:,(/]', '', text)\n",
    "    text = re.sub('-', ' ', text)\n",
    "    return text\n",
    "\n",
    "\n",
    "def lemmatize_sentences(sentence):\n",
    "    tokens = sentence.split()\n",
    "    lemmatizer = WordNetLemmatizer()\n",
    "    stemmed_tokens = [lemmatizer.lemmatize(token) for token in tokens]\n",
    "    return ' '.join(stemmed_tokens)"
   ]
  },
  {
   "cell_type": "code",
   "execution_count": 21,
   "id": "5f826a55",
   "metadata": {},
   "outputs": [],
   "source": [
    "from nltk.corpus import stopwords\n",
    "def preprocessing_complaint(text):\n",
    "    text = remove_stopwords(text)\n",
    "    text = re.sub('x+', '', text)\n",
    "    text = re.sub('/', '' ,text)\n",
    "    text = re.sub(' +', ' ', text)\n",
    "    return text\n",
    "df1['complaint_what_happened'] = df1['complaint_what_happened'].apply(preprocess)\n",
    "df1['complaint_what_happened'] = df1['complaint_what_happened'].apply(preprocessing_complaint)"
   ]
  },
  {
   "cell_type": "code",
   "execution_count": 22,
   "id": "7c8b76a3",
   "metadata": {},
   "outputs": [
    {
     "data": {
      "text/plain": [
       "'good morning appreciate help stop chase bank cardmember service 2018 wrote chase asking debt verification sent statement acceptable asking bank validate debt instead receiving mail month attempting collect debt right know information consumer chase account thanks advance help'"
      ]
     },
     "execution_count": 22,
     "metadata": {},
     "output_type": "execute_result"
    }
   ],
   "source": [
    "df1['complaint_what_happened'][1]"
   ]
  },
  {
   "cell_type": "code",
   "execution_count": 23,
   "id": "e96f6654",
   "metadata": {},
   "outputs": [],
   "source": [
    "#combine product and sub_product feature\n",
    "df1['product_category'] = df1['product'] + ' '+ df1['sub_product']\n",
    "df1[\"product_category\"].fillna(\"\", inplace = True)\n",
    "df1['product_category'] = df1['product_category'].apply(preprocess)"
   ]
  },
  {
   "cell_type": "code",
   "execution_count": 24,
   "id": "6cd4afd8",
   "metadata": {},
   "outputs": [],
   "source": [
    "from nltk.tokenize import word_tokenize\n",
    "word_data = []\n",
    "df1[\"all_text\"] = df1[\"product_category\"]+df1[\"complaint_what_happened\"]\n",
    "word_data = df1[\"all_text\"].apply(lambda x:word_tokenize(x))"
   ]
  },
  {
   "cell_type": "code",
   "execution_count": 25,
   "id": "9b24a7a7",
   "metadata": {},
   "outputs": [
    {
     "data": {
      "text/plain": [
       "0                   [debt, collection, credit, card, debt]\n",
       "1        [debt, collection, credit, card, debtgood, mor...\n",
       "2        [credit, card, or, prepaid, card, generalpurpo...\n",
       "3                 [mortgage, conventional, home, mortgage]\n",
       "4        [credit, card, or, prepaid, card, generalpurpo...\n",
       "                               ...                        \n",
       "78308    [checking, or, saving, account, checking, acco...\n",
       "78309    [credit, card, or, prepaid, card, generalpurpo...\n",
       "78310    [checking, or, saving, account, checking, acco...\n",
       "78311    [credit, card, or, prepaid, card, generalpurpo...\n",
       "78312    [roughly, 10, year, ago, closed, account, jp, ...\n",
       "Name: all_text, Length: 78313, dtype: object"
      ]
     },
     "execution_count": 25,
     "metadata": {},
     "output_type": "execute_result"
    }
   ],
   "source": [
    "word_data"
   ]
  },
  {
   "cell_type": "markdown",
   "id": "1056ec03",
   "metadata": {},
   "source": [
    "# Topic Modelling"
   ]
  },
  {
   "cell_type": "code",
   "execution_count": 26,
   "id": "9c87195c",
   "metadata": {},
   "outputs": [],
   "source": [
    "import gensim"
   ]
  },
  {
   "cell_type": "code",
   "execution_count": 27,
   "id": "ee15cf10",
   "metadata": {},
   "outputs": [],
   "source": [
    "from gensim.corpora import Dictionary"
   ]
  },
  {
   "cell_type": "code",
   "execution_count": 28,
   "id": "0f184c98",
   "metadata": {},
   "outputs": [],
   "source": [
    "dictionary = gensim.corpora.Dictionary(word_data)"
   ]
  },
  {
   "cell_type": "code",
   "execution_count": 29,
   "id": "8f0f90c0",
   "metadata": {},
   "outputs": [],
   "source": [
    "corpus = [dictionary.doc2bow(text) for text in word_data]"
   ]
  },
  {
   "cell_type": "code",
   "execution_count": 30,
   "id": "fc2301e1",
   "metadata": {},
   "outputs": [],
   "source": [
    "from gensim.models import LdaModel"
   ]
  },
  {
   "cell_type": "code",
   "execution_count": null,
   "id": "708b1ec9",
   "metadata": {},
   "outputs": [],
   "source": [
    "model = LdaModel(corpus=corpus,id2word=dictionary,num_topics=5,passes=50,chunksize=1500,iterations=200,alpha=\"auto\")"
   ]
  },
  {
   "cell_type": "code",
   "execution_count": null,
   "id": "b2a357a5",
   "metadata": {},
   "outputs": [],
   "source": [
    "model.save(\"lda_model_4\")"
   ]
  },
  {
   "cell_type": "code",
   "execution_count": null,
   "id": "20f1ea44",
   "metadata": {},
   "outputs": [],
   "source": [
    "model.print_topics(num_topics=5,num_words=3)"
   ]
  },
  {
   "cell_type": "code",
   "execution_count": null,
   "id": "821c920c",
   "metadata": {},
   "outputs": [],
   "source": [
    "model.show_topics(num_topics=5)"
   ]
  },
  {
   "cell_type": "code",
   "execution_count": null,
   "id": "2d7e4c08",
   "metadata": {},
   "outputs": [],
   "source": [
    "model.get_document_topics(corpus[2])"
   ]
  },
  {
   "cell_type": "code",
   "execution_count": null,
   "id": "29bd7820",
   "metadata": {},
   "outputs": [],
   "source": [
    "model.log_perplexity(corpus)"
   ]
  },
  {
   "cell_type": "code",
   "execution_count": null,
   "id": "cd4c9dc6",
   "metadata": {},
   "outputs": [],
   "source": [
    "import pyLDAvis\n",
    "import pyLDAvis.gensim_models as ldavis\n",
    "pyLDAvis.enable_notebook()\n",
    "vis = ldavis.prepare(model, corpus, dictionary)\n",
    "vis"
   ]
  },
  {
   "cell_type": "code",
   "execution_count": null,
   "id": "63e212a1",
   "metadata": {},
   "outputs": [],
   "source": [
    "def extract(y):\n",
    "    max_tup = (0,0)\n",
    "    for i in y:\n",
    "        if i[1]>max_tup[1]:\n",
    "            max_tup = i\n",
    "    return max_tup[0]"
   ]
  },
  {
   "cell_type": "code",
   "execution_count": null,
   "id": "8826bcd0",
   "metadata": {},
   "outputs": [],
   "source": [
    "model.get_document_topics(corpus[0])"
   ]
  },
  {
   "cell_type": "code",
   "execution_count": null,
   "id": "09071e2b",
   "metadata": {},
   "outputs": [],
   "source": [
    "complaint_data[1]"
   ]
  },
  {
   "cell_type": "code",
   "execution_count": null,
   "id": "fd44d398",
   "metadata": {},
   "outputs": [],
   "source": [
    "print(complaint_data)"
   ]
  },
  {
   "cell_type": "code",
   "execution_count": null,
   "id": "5f548995",
   "metadata": {},
   "outputs": [],
   "source": [
    "complaint_data = list(filter(None,complaint_data))"
   ]
  },
  {
   "cell_type": "code",
   "execution_count": null,
   "id": "c62ec8fd",
   "metadata": {},
   "outputs": [],
   "source": [
    "topics = []\n",
    "for i in corpus:\n",
    "    topics.append(extract(model.get_document_topics(i)) + 1)"
   ]
  },
  {
   "cell_type": "code",
   "execution_count": null,
   "id": "62bfa54e",
   "metadata": {},
   "outputs": [],
   "source": [
    "df_results= pd.DataFrame([complaint_data,topics]).T"
   ]
  },
  {
   "cell_type": "code",
   "execution_count": null,
   "id": "503c19f8",
   "metadata": {},
   "outputs": [],
   "source": [
    "df_results.columns = [\"complaint\",\"type\"]"
   ]
  },
  {
   "cell_type": "code",
   "execution_count": null,
   "id": "84cd972b",
   "metadata": {},
   "outputs": [],
   "source": [
    "df_results.sample(40)"
   ]
  },
  {
   "cell_type": "code",
   "execution_count": null,
   "id": "44f86235",
   "metadata": {},
   "outputs": [],
   "source": [
    "df_results.to_csv(\"complaints_with_topics.csv\")"
   ]
  },
  {
   "cell_type": "code",
   "execution_count": null,
   "id": "1a402cf6",
   "metadata": {},
   "outputs": [],
   "source": [
    "preprocessed_data = list(filter(None,preprocessed_data))"
   ]
  }
 ],
 "metadata": {
  "kernelspec": {
   "display_name": "Python 3 (ipykernel)",
   "language": "python",
   "name": "python3"
  },
  "language_info": {
   "codemirror_mode": {
    "name": "ipython",
    "version": 3
   },
   "file_extension": ".py",
   "mimetype": "text/x-python",
   "name": "python",
   "nbconvert_exporter": "python",
   "pygments_lexer": "ipython3",
   "version": "3.10.8"
  }
 },
 "nbformat": 4,
 "nbformat_minor": 5
}
